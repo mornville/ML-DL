{
 "cells": [
  {
   "cell_type": "code",
   "execution_count": 168,
   "metadata": {},
   "outputs": [],
   "source": [
    "import tensorflow as tf\n",
    "import os\n",
    "from os import listdir\n",
    "from os.path import isfile, join\n",
    "from tensorflow.keras.applications.resnet50 import preprocess_input\n",
    "from tensorflow.python.keras.preprocessing.image import ImageDataGenerator\n",
    "from tensorflow.keras.models import Sequential\n",
    "from tensorflow.keras.layers import Dense, Flatten, GlobalAveragePooling2D\n",
    "from tensorflow.keras.layers import Conv2D"
   ]
  },
  {
   "cell_type": "code",
   "execution_count": 185,
   "metadata": {},
   "outputs": [],
   "source": [
    "img_width = 150\n",
    "img_height = 150\n",
    "\n",
    "train_data_dir = 'ML/compVsLaptop/images/training'\n",
    "validation_data_dir = 'ML/compVsLaptop/images/validation'\n",
    "train_samples = 120\n",
    "validation_samples = 30\n",
    "epochs = 5\n",
    "batch_size = 20\n",
    "data_gen = ImageDataGenerator(rescale=1. / 255)\n",
    "valida_data_gen = ImageDataGenerator(rescale=1. / 255)"
   ]
  },
  {
   "cell_type": "code",
   "execution_count": 186,
   "metadata": {},
   "outputs": [
    {
     "name": "stdout",
     "output_type": "stream",
     "text": [
      "Found 341 images belonging to 2 classes.\n"
     ]
    }
   ],
   "source": [
    "train_data_gen  = data_gen.flow_from_directory(\n",
    "train_data_dir, batch_size=10,target_size=(150, 150),class_mode='binary')"
   ]
  },
  {
   "cell_type": "code",
   "execution_count": 187,
   "metadata": {},
   "outputs": [
    {
     "name": "stdout",
     "output_type": "stream",
     "text": [
      "Found 91 images belonging to 2 classes.\n"
     ]
    },
    {
     "data": {
      "text/plain": [
       "{'Cat': 0, 'Dog': 1}"
      ]
     },
     "execution_count": 187,
     "metadata": {},
     "output_type": "execute_result"
    }
   ],
   "source": [
    "validation_data  =  valida_data_gen.flow_from_directory(\n",
    "validation_data_dir, batch_size=10,target_size=(150, 150),class_mode='binary')\n",
    "validation_data.class_indices"
   ]
  },
  {
   "cell_type": "code",
   "execution_count": null,
   "metadata": {},
   "outputs": [],
   "source": []
  },
  {
   "cell_type": "code",
   "execution_count": 222,
   "metadata": {},
   "outputs": [],
   "source": [
    "model = Sequential()\n",
    "from tensorflow.keras.layers import Activation, Dropout, Flatten, Dense\n",
    "from tensorflow.keras.layers import Conv2D, MaxPooling2D\n",
    "\n",
    "# Conv2D : Two dimenstional convulational model.\n",
    "# 32 : Input for next layer\n",
    "# (3,3) convulonational windows size\n",
    "model = Sequential()\n",
    "model.add(Conv2D(32, (3, 3), activation='relu', kernel_initializer='he_uniform', padding='same', input_shape=(150, 150, 3)))\n",
    "model.add(MaxPooling2D((2, 2)))\n",
    "model.add(Conv2D(64, (3, 3), activation='relu', kernel_initializer='he_uniform', padding='same'))\n",
    "model.add(MaxPooling2D((2, 2)))\n",
    "model.add(Conv2D(128, (3, 3), activation='relu', kernel_initializer='he_uniform', padding='same'))\n",
    "model.add(MaxPooling2D((2, 2)))\n",
    "model.add(Flatten())\n",
    "model.add(Dense(128, activation='relu', kernel_initializer='he_uniform'))\n",
    "model.add(Dense(1, activation='sigmoid'))\n",
    "# compile model\n",
    "opt = SGD(lr=0.001, momentum=0.9)\n",
    "model.compile(optimizer=opt, loss='binary_crossentropy', metrics=['accuracy'])"
   ]
  },
  {
   "cell_type": "code",
   "execution_count": null,
   "metadata": {},
   "outputs": [],
   "source": []
  },
  {
   "cell_type": "code",
   "execution_count": 223,
   "metadata": {},
   "outputs": [
    {
     "name": "stdout",
     "output_type": "stream",
     "text": [
      "WARNING:tensorflow:sample_weight modes were coerced from\n",
      "  ...\n",
      "    to  \n",
      "  ['...']\n",
      "WARNING:tensorflow:sample_weight modes were coerced from\n",
      "  ...\n",
      "    to  \n",
      "  ['...']\n",
      "Train for 35 steps, validate for 10 steps\n",
      "Epoch 1/20\n",
      "35/35 [==============================] - 18s 501ms/step - loss: 0.8946 - accuracy: 0.4897 - val_loss: 0.7079 - val_accuracy: 0.5165\n",
      "Epoch 2/20\n",
      "35/35 [==============================] - 16s 455ms/step - loss: 0.6931 - accuracy: 0.5308 - val_loss: 0.6989 - val_accuracy: 0.4396\n",
      "Epoch 3/20\n",
      "35/35 [==============================] - 15s 441ms/step - loss: 0.6746 - accuracy: 0.5924 - val_loss: 0.6937 - val_accuracy: 0.4286\n",
      "Epoch 4/20\n",
      "35/35 [==============================] - 16s 464ms/step - loss: 0.6467 - accuracy: 0.6569 - val_loss: 0.7381 - val_accuracy: 0.5385\n",
      "Epoch 5/20\n",
      "35/35 [==============================] - 16s 459ms/step - loss: 0.6421 - accuracy: 0.5924 - val_loss: 0.7107 - val_accuracy: 0.4725\n",
      "Epoch 6/20\n",
      "35/35 [==============================] - 16s 463ms/step - loss: 0.6189 - accuracy: 0.6422 - val_loss: 0.6863 - val_accuracy: 0.4615\n",
      "Epoch 7/20\n",
      "35/35 [==============================] - 16s 460ms/step - loss: 0.5662 - accuracy: 0.7449 - val_loss: 0.7079 - val_accuracy: 0.5385\n",
      "Epoch 8/20\n",
      "35/35 [==============================] - 16s 456ms/step - loss: 0.5198 - accuracy: 0.7566 - val_loss: 0.7116 - val_accuracy: 0.5495\n",
      "Epoch 9/20\n",
      "35/35 [==============================] - 16s 453ms/step - loss: 0.4705 - accuracy: 0.7713 - val_loss: 0.6921 - val_accuracy: 0.5165\n",
      "Epoch 10/20\n",
      "35/35 [==============================] - 16s 448ms/step - loss: 0.3878 - accuracy: 0.9003 - val_loss: 0.7363 - val_accuracy: 0.5275\n",
      "Epoch 11/20\n",
      "35/35 [==============================] - 16s 454ms/step - loss: 0.3313 - accuracy: 0.8944 - val_loss: 0.7370 - val_accuracy: 0.5714\n",
      "Epoch 12/20\n",
      "35/35 [==============================] - 16s 457ms/step - loss: 0.2889 - accuracy: 0.9091 - val_loss: 0.7908 - val_accuracy: 0.4945\n",
      "Epoch 13/20\n",
      "35/35 [==============================] - 17s 477ms/step - loss: 0.2636 - accuracy: 0.9326 - val_loss: 0.8585 - val_accuracy: 0.4945\n",
      "Epoch 14/20\n",
      "35/35 [==============================] - 27s 784ms/step - loss: 0.2763 - accuracy: 0.9091 - val_loss: 0.8305 - val_accuracy: 0.5385\n",
      "Epoch 15/20\n",
      "35/35 [==============================] - 19s 545ms/step - loss: 0.1819 - accuracy: 0.9648 - val_loss: 0.8025 - val_accuracy: 0.5604\n",
      "Epoch 16/20\n",
      "35/35 [==============================] - 16s 464ms/step - loss: 0.1232 - accuracy: 0.9912 - val_loss: 0.8414 - val_accuracy: 0.5604\n",
      "Epoch 17/20\n",
      "35/35 [==============================] - 17s 478ms/step - loss: 0.0982 - accuracy: 0.9883 - val_loss: 1.0245 - val_accuracy: 0.5055\n",
      "Epoch 18/20\n",
      "35/35 [==============================] - 17s 481ms/step - loss: 0.0876 - accuracy: 0.9883 - val_loss: 0.8840 - val_accuracy: 0.5934\n",
      "Epoch 19/20\n",
      "35/35 [==============================] - 16s 465ms/step - loss: 0.0653 - accuracy: 0.9941 - val_loss: 0.9867 - val_accuracy: 0.5275\n",
      "Epoch 20/20\n",
      "35/35 [==============================] - 17s 482ms/step - loss: 0.0447 - accuracy: 1.0000 - val_loss: 0.9730 - val_accuracy: 0.6044\n"
     ]
    }
   ],
   "source": [
    "history = model.fit_generator(train_data_gen, steps_per_epoch=len(train_data_gen),\n",
    "\tvalidation_data=validation_data, validation_steps=len(validation_data), epochs=20, verbose=1)"
   ]
  },
  {
   "cell_type": "code",
   "execution_count": 136,
   "metadata": {},
   "outputs": [],
   "source": [
    "# history.history"
   ]
  },
  {
   "cell_type": "code",
   "execution_count": 237,
   "metadata": {},
   "outputs": [
    {
     "data": {
      "image/png": "[encoded data removed]",
      "text/plain": [
       "<Figure size 432x288 with 2 Axes>"
      ]
     },
     "metadata": {
      "needs_background": "light"
     },
     "output_type": "display_data"
    }
   ],
   "source": [
    "import matplotlib.pyplot as plt\n",
    "%matplotlib inline\n",
    "pyplot.subplot(211)\n",
    "pyplot.title('Cross Entropy Loss')\n",
    "pyplot.plot(history.history['loss'], color='blue', label='train')\n",
    "pyplot.plot(history.history['val_loss'], color='orange', label='test')\n",
    "# plot accuracy\n",
    "pyplot.subplot(212)\n",
    "pyplot.title('Classification Accuracy')\n",
    "pyplot.plot(history.history['accuracy'], color='blue', label='train')\n",
    "pyplot.plot(history.history['val_accuracy'], color='orange', label='test')\n",
    "pyplot.show()\n",
    "\n",
    "pyplot.close()\n"
   ]
  },
  {
   "cell_type": "code",
   "execution_count": 238,
   "metadata": {},
   "outputs": [
    {
     "name": "stdout",
     "output_type": "stream",
     "text": [
      "/Users/ashutoshjha/Desktop/Projects/ML-DL\n"
     ]
    }
   ],
   "source": [
    "from os import listdir, getcwd\n",
    "from os.path import isfile, join\n",
    "print(getcwd())"
   ]
  },
  {
   "cell_type": "code",
   "execution_count": 246,
   "metadata": {},
   "outputs": [
    {
     "name": "stdout",
     "output_type": "stream",
     "text": [
      "['cat 1.104.jpg', 'cat 1.110.jpg', 'cat 1.111.jpg', 'cat 1.105.png', 'dog.21.jpg', 'cat 1.93.png?w=600&fl=progressive&auto=format,compress&cs=tinysrgb&dpr=1', 'cat 1.102.png', 'cat.0.jpg', 'cat 1.116.jpg', 'cat.1.jpg', 'cat 1.117.png', 'cat 1.115.jpg', 'cat 1.114.jpg', 'cat 1.103.jpeg', 'cat 1.96.jpg', 'cat 1.92.jpg', 'cat 1.91.jpg', 'dog.5.jpg', 'cat 1.90.jpg', 'dog.9.jpg', 'dogs.64.jpg', 'dogs.61.jpg', 'dogs.63.jpg', 'cat 1.98.jpg', 'cat 1.99.jpg', 'dogs.62.jpg', 'dog.16.jpg', 'cat 1.97.jpeg', 'dog.15.jpg', 'dog.10.jpg', 'cat 1.108.jpg', 'cat 1.109.jpg']\n"
     ]
    }
   ],
   "source": [
    "predict_dir_path=getcwd() + '/ML/compVsLaptop/images/test'\n",
    "listdir(predict_dir_path)\n",
    "onlyfiles = [f for f in listdir(predict_dir_path) if isfile(join(predict_dir_path, f))]\n",
    "print(onlyfiles)\n"
   ]
  },
  {
   "cell_type": "code",
   "execution_count": 247,
   "metadata": {},
   "outputs": [
    {
     "name": "stdout",
     "output_type": "stream",
     "text": [
      "['cat 1.104.jpg', 'cat 1.110.jpg', 'cat 1.111.jpg', 'cat 1.105.png', 'dog.21.jpg', 'cat 1.93.png?w=600&fl=progressive&auto=format,compress&cs=tinysrgb&dpr=1', 'cat 1.102.png', 'cat.0.jpg', 'cat 1.116.jpg', 'cat.1.jpg', 'cat 1.117.png', 'cat 1.115.jpg', 'cat 1.114.jpg', 'cat 1.103.jpeg', 'cat 1.96.jpg', 'cat 1.92.jpg', 'cat 1.91.jpg', 'dog.5.jpg', 'cat 1.90.jpg', 'dog.9.jpg', 'dogs.64.jpg', 'dogs.61.jpg', 'dogs.63.jpg', 'cat 1.98.jpg', 'cat 1.99.jpg', 'dogs.62.jpg', 'dog.16.jpg', 'cat 1.97.jpeg', 'dog.15.jpg', 'dog.10.jpg', 'cat 1.108.jpg', 'cat 1.109.jpg']\n",
      "cat 1.104.jpg: cat\n",
      "cat 1.110.jpg: cat\n",
      "cat 1.111.jpg: cat\n",
      "cat 1.105.png: cat\n",
      "dog.21.jpg: dog\n",
      "cat 1.93.png?w=600&fl=progressive&auto=format,compress&cs=tinysrgb&dpr=1: dog\n",
      "cat 1.102.png: cat\n",
      "cat.0.jpg: dog\n",
      "cat 1.116.jpg: cat\n",
      "cat.1.jpg: cat\n",
      "cat 1.117.png: cat\n",
      "cat 1.115.jpg: cat\n",
      "cat 1.114.jpg: cat\n",
      "cat 1.103.jpeg: cat\n",
      "cat 1.96.jpg: cat\n",
      "cat 1.92.jpg: cat\n",
      "cat 1.91.jpg: cat\n",
      "dog.5.jpg: dog\n",
      "cat 1.90.jpg: cat\n",
      "dog.9.jpg: cat\n",
      "dogs.64.jpg: dog\n",
      "dogs.61.jpg: dog\n",
      "dogs.63.jpg: dog\n",
      "cat 1.98.jpg: cat\n",
      "cat 1.99.jpg: cat\n",
      "dogs.62.jpg: dog\n",
      "dog.16.jpg: dog\n",
      "cat 1.97.jpeg: cat\n",
      "dog.15.jpg: cat\n",
      "dog.10.jpg: dog\n",
      "cat 1.108.jpg: cat\n",
      "cat 1.109.jpg: cat\n",
      "Total Dogs : 10\n",
      "Total Cats : 22\n"
     ]
    }
   ],
   "source": [
    "import numpy as np\n",
    "from tensorflow.keras.preprocessing import image\n",
    "dog_counter = 0 \n",
    "cat_counter  = 0\n",
    "\n",
    "predict_dir_path=getcwd() + '/ML/compVsLaptop/images/test/'\n",
    "print(listdir(predict_dir_path))\n",
    "for file in onlyfiles:\n",
    "    img = image.load_img(predict_dir_path +file, target_size=(150, 150))\n",
    "    x = image.img_to_array(img)\n",
    "    x = np.expand_dims(x, axis=0)\n",
    "    \n",
    "    images = np.vstack([x])\n",
    "    classes = model.predict_classes(images, batch_size=10)\n",
    "    classes = classes[0][0]\n",
    "    \n",
    "    if classes == 0:\n",
    "        print(file + \": \" + 'cat')\n",
    "        cat_counter += 1\n",
    "    else:\n",
    "        print(file + \": \" + 'dog')\n",
    "        dog_counter += 1\n",
    "print(\"Total Dogs :\",dog_counter)\n",
    "print(\"Total Cats :\",cat_counter)"
   ]
  },
  {
   "cell_type": "code",
   "execution_count": 232,
   "metadata": {},
   "outputs": [
    {
     "ename": "SyntaxError",
     "evalue": "invalid syntax (<ipython-input-232-42381c771654>, line 4)",
     "output_type": "error",
     "traceback": [
      "\u001b[0;36m  File \u001b[0;32m\"<ipython-input-232-42381c771654>\"\u001b[0;36m, line \u001b[0;32m4\u001b[0m\n\u001b[0;31m    acc = model.evaluate_generator(validation_data, steps=len(validation_data), verbose=)\u001b[0m\n\u001b[0m                                                                                        ^\u001b[0m\n\u001b[0;31mSyntaxError\u001b[0m\u001b[0;31m:\u001b[0m invalid syntax\n"
     ]
    }
   ],
   "source": []
  },
  {
   "cell_type": "code",
   "execution_count": null,
   "metadata": {},
   "outputs": [],
   "source": []
  }
 ],
 "metadata": {
  "kernelspec": {
   "display_name": "Python 3",
   "language": "python",
   "name": "python3"
  },
  "language_info": {
   "codemirror_mode": {
    "name": "ipython",
    "version": 3
   },
   "file_extension": ".py",
   "mimetype": "text/x-python",
   "name": "python",
   "nbconvert_exporter": "python",
   "pygments_lexer": "ipython3",
   "version": "3.7.6"
  }
 },
 "nbformat": 4,
 "nbformat_minor": 4
}
