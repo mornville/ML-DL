{
 "cells": [
  {
   "cell_type": "code",
   "execution_count": 40,
   "metadata": {},
   "outputs": [],
   "source": [
    "from __future__ import absolute_import, division, print_function, unicode_literals\n",
    "\n",
    "\n",
    "import tensorflow as tf\n",
    "\n",
    "import pandas as pd"
   ]
  },
  {
   "cell_type": "code",
   "execution_count": 48,
   "metadata": {},
   "outputs": [],
   "source": [
    "CSV_COLUMN_NAMES = ['SepalLength', 'SepalWidth', 'PetalLength', 'PetalWidth', 'Species']\n",
    "SPECIES = ['Setosa', 'Versicolor', 'Virginica']\n"
   ]
  },
  {
   "cell_type": "code",
   "execution_count": 49,
   "metadata": {},
   "outputs": [
    {
     "name": "stdout",
     "output_type": "stream",
     "text": [
      "   SepalLength  SepalWidth  PetalLength  PetalWidth  Species\n",
      "0          6.4         2.8          5.6         2.2        2\n",
      "1          5.0         2.3          3.3         1.0        1\n",
      "2          4.9         2.5          4.5         1.7        2\n",
      "3          4.9         3.1          1.5         0.1        0\n",
      "4          5.7         3.8          1.7         0.3        0\n"
     ]
    }
   ],
   "source": [
    "train_path = tf.keras.utils.get_file(\n",
    "    \"iris_training.csv\", \"https://storage.googleapis.com/download.tensorflow.org/data/iris_training.csv\")\n",
    "test_path = tf.keras.utils.get_file(\n",
    "    \"iris_test.csv\", \"https://storage.googleapis.com/download.tensorflow.org/data/iris_test.csv\")\n",
    "\n",
    "train = pd.read_csv(train_path, names=CSV_COLUMN_NAMES, header=0)\n",
    "test = pd.read_csv(test_path, names=CSV_COLUMN_NAMES, header=0)\n",
    "print(train.head())"
   ]
  },
  {
   "cell_type": "code",
   "execution_count": 50,
   "metadata": {},
   "outputs": [],
   "source": [
    "train_y = train.pop('Species')\n",
    "test_y = test.pop('Species')\n"
   ]
  },
  {
   "cell_type": "code",
   "execution_count": 51,
   "metadata": {},
   "outputs": [],
   "source": [
    "def input_fn(features, labels, training=True, batch_size=256):\n",
    "    # Convert the inputs to a Dataset.\n",
    "    dataset = tf.data.Dataset.from_tensor_slices((dict(features), labels))\n",
    "\n",
    "    # Shuffle and repeat if you are in training mode.\n",
    "    if training:\n",
    "        dataset = dataset.shuffle(1000).repeat()\n",
    "    \n",
    "    return dataset.batch(batch_size)\n"
   ]
  },
  {
   "cell_type": "code",
   "execution_count": 52,
   "metadata": {},
   "outputs": [],
   "source": [
    "my_feature_columns = []\n",
    "for key in train.keys():\n",
    "    my_feature_columns.append(tf.feature_column.numeric_column(key=key))\n"
   ]
  },
  {
   "cell_type": "code",
   "execution_count": 53,
   "metadata": {},
   "outputs": [
    {
     "name": "stdout",
     "output_type": "stream",
     "text": [
      "INFO:tensorflow:Using default config.\n",
      "WARNING:tensorflow:Using temporary folder as model directory: /var/folders/1y/gxr2z5zn1mxfnq8_rtqx2ft40000gn/T/tmpdfemth96\n",
      "INFO:tensorflow:Using config: {'_model_dir': '/var/folders/1y/gxr2z5zn1mxfnq8_rtqx2ft40000gn/T/tmpdfemth96', '_tf_random_seed': None, '_save_summary_steps': 100, '_save_checkpoints_steps': None, '_save_checkpoints_secs': 600, '_session_config': allow_soft_placement: true\n",
      "graph_options {\n",
      "  rewrite_options {\n",
      "    meta_optimizer_iterations: ONE\n",
      "  }\n",
      "}\n",
      ", '_keep_checkpoint_max': 5, '_keep_checkpoint_every_n_hours': 10000, '_log_step_count_steps': 100, '_train_distribute': None, '_device_fn': None, '_protocol': None, '_eval_distribute': None, '_experimental_distribute': None, '_experimental_max_worker_delay_secs': None, '_session_creation_timeout_secs': 7200, '_service': None, '_cluster_spec': ClusterSpec({}), '_task_type': 'worker', '_task_id': 0, '_global_id_in_cluster': 0, '_master': '', '_evaluation_master': '', '_is_chief': True, '_num_ps_replicas': 0, '_num_worker_replicas': 1}\n"
     ]
    }
   ],
   "source": [
    "# Build a DNN with 2 hidden layers with 30 and 10 hidden nodes each.\n",
    "classifier = tf.estimator.DNNClassifier(\n",
    "    feature_columns=my_feature_columns,\n",
    "    # Two hidden layers of 30 and 10 nodes respectively.\n",
    "    hidden_units=[30, 10],\n",
    "    # The model must choose between 3 classes.\n",
    "    n_classes=3)"
   ]
  },
  {
   "cell_type": "code",
   "execution_count": null,
   "metadata": {},
   "outputs": [],
   "source": []
  },
  {
   "cell_type": "code",
   "execution_count": 55,
   "metadata": {},
   "outputs": [
    {
     "name": "stdout",
     "output_type": "stream",
     "text": [
      "INFO:tensorflow:Calling model_fn.\n",
      "WARNING:tensorflow:Layer dnn is casting an input tensor from dtype float64 to the layer's dtype of float32, which is new behavior in TensorFlow 2.  The layer has dtype float32 because it's dtype defaults to floatx.\n",
      "\n",
      "If you intended to run this layer in float32, you can safely ignore this warning. If in doubt, this warning is likely only an issue if you are porting a TensorFlow 1.X model to TensorFlow 2.\n",
      "\n",
      "To change all layers to have dtype float64 by default, call `tf.keras.backend.set_floatx('float64')`. To change just this layer, pass dtype='float64' to the layer constructor. If you are the author of this layer, you can disable autocasting by passing autocast=False to the base Layer constructor.\n",
      "\n",
      "INFO:tensorflow:Done calling model_fn.\n",
      "INFO:tensorflow:Create CheckpointSaverHook.\n",
      "INFO:tensorflow:Graph was finalized.\n",
      "INFO:tensorflow:Running local_init_op.\n",
      "INFO:tensorflow:Done running local_init_op.\n",
      "INFO:tensorflow:Saving checkpoints for 0 into /var/folders/1y/gxr2z5zn1mxfnq8_rtqx2ft40000gn/T/tmpdfemth96/model.ckpt.\n",
      "INFO:tensorflow:loss = 1.3427856, step = 0\n",
      "INFO:tensorflow:global_step/sec: 311.049\n",
      "INFO:tensorflow:loss = 0.9619622, step = 100 (0.323 sec)\n",
      "INFO:tensorflow:global_step/sec: 407.829\n",
      "INFO:tensorflow:loss = 0.90113914, step = 200 (0.245 sec)\n",
      "INFO:tensorflow:global_step/sec: 410.954\n",
      "INFO:tensorflow:loss = 0.86615527, step = 300 (0.243 sec)\n",
      "INFO:tensorflow:global_step/sec: 424.735\n",
      "INFO:tensorflow:loss = 0.82658255, step = 400 (0.235 sec)\n",
      "INFO:tensorflow:global_step/sec: 397.745\n",
      "INFO:tensorflow:loss = 0.8077545, step = 500 (0.252 sec)\n",
      "INFO:tensorflow:global_step/sec: 406.86\n",
      "INFO:tensorflow:loss = 0.7772696, step = 600 (0.246 sec)\n",
      "INFO:tensorflow:global_step/sec: 430.524\n",
      "INFO:tensorflow:loss = 0.7509208, step = 700 (0.232 sec)\n",
      "INFO:tensorflow:global_step/sec: 432.007\n",
      "INFO:tensorflow:loss = 0.7286278, step = 800 (0.231 sec)\n",
      "INFO:tensorflow:global_step/sec: 400.526\n",
      "INFO:tensorflow:loss = 0.7053982, step = 900 (0.250 sec)\n",
      "INFO:tensorflow:global_step/sec: 298.16\n",
      "INFO:tensorflow:loss = 0.6789416, step = 1000 (0.335 sec)\n",
      "INFO:tensorflow:global_step/sec: 428.677\n",
      "INFO:tensorflow:loss = 0.66441053, step = 1100 (0.233 sec)\n",
      "INFO:tensorflow:global_step/sec: 423.374\n",
      "INFO:tensorflow:loss = 0.64661515, step = 1200 (0.238 sec)\n",
      "INFO:tensorflow:global_step/sec: 283.207\n",
      "INFO:tensorflow:loss = 0.6357653, step = 1300 (0.352 sec)\n",
      "INFO:tensorflow:global_step/sec: 420.165\n",
      "INFO:tensorflow:loss = 0.61393595, step = 1400 (0.237 sec)\n",
      "INFO:tensorflow:global_step/sec: 428.678\n",
      "INFO:tensorflow:loss = 0.61141866, step = 1500 (0.233 sec)\n",
      "INFO:tensorflow:global_step/sec: 353.78\n",
      "INFO:tensorflow:loss = 0.5969597, step = 1600 (0.283 sec)\n",
      "INFO:tensorflow:global_step/sec: 425.349\n",
      "INFO:tensorflow:loss = 0.5862113, step = 1700 (0.235 sec)\n",
      "INFO:tensorflow:global_step/sec: 428.548\n",
      "INFO:tensorflow:loss = 0.5721706, step = 1800 (0.233 sec)\n",
      "INFO:tensorflow:global_step/sec: 352.403\n",
      "INFO:tensorflow:loss = 0.5612346, step = 1900 (0.284 sec)\n",
      "INFO:tensorflow:global_step/sec: 355.005\n",
      "INFO:tensorflow:loss = 0.5578692, step = 2000 (0.281 sec)\n",
      "INFO:tensorflow:global_step/sec: 372.987\n",
      "INFO:tensorflow:loss = 0.5517817, step = 2100 (0.269 sec)\n",
      "INFO:tensorflow:global_step/sec: 360.337\n",
      "INFO:tensorflow:loss = 0.5296409, step = 2200 (0.277 sec)\n",
      "INFO:tensorflow:global_step/sec: 421.326\n",
      "INFO:tensorflow:loss = 0.5296043, step = 2300 (0.237 sec)\n",
      "INFO:tensorflow:global_step/sec: 395.448\n",
      "INFO:tensorflow:loss = 0.52019554, step = 2400 (0.253 sec)\n",
      "INFO:tensorflow:global_step/sec: 353.363\n",
      "INFO:tensorflow:loss = 0.5103197, step = 2500 (0.283 sec)\n",
      "INFO:tensorflow:global_step/sec: 418.457\n",
      "INFO:tensorflow:loss = 0.51196563, step = 2600 (0.239 sec)\n",
      "INFO:tensorflow:global_step/sec: 407.767\n",
      "INFO:tensorflow:loss = 0.4975119, step = 2700 (0.246 sec)\n",
      "INFO:tensorflow:global_step/sec: 411.849\n",
      "INFO:tensorflow:loss = 0.48925155, step = 2800 (0.243 sec)\n",
      "INFO:tensorflow:global_step/sec: 425.605\n",
      "INFO:tensorflow:loss = 0.47696716, step = 2900 (0.235 sec)\n",
      "INFO:tensorflow:global_step/sec: 423.237\n",
      "INFO:tensorflow:loss = 0.47747087, step = 3000 (0.236 sec)\n",
      "INFO:tensorflow:global_step/sec: 426.818\n",
      "INFO:tensorflow:loss = 0.46553642, step = 3100 (0.234 sec)\n",
      "INFO:tensorflow:global_step/sec: 423.42\n",
      "INFO:tensorflow:loss = 0.4716171, step = 3200 (0.236 sec)\n",
      "INFO:tensorflow:global_step/sec: 410.586\n",
      "INFO:tensorflow:loss = 0.4599873, step = 3300 (0.244 sec)\n",
      "INFO:tensorflow:global_step/sec: 413.121\n",
      "INFO:tensorflow:loss = 0.4471428, step = 3400 (0.242 sec)\n",
      "INFO:tensorflow:global_step/sec: 338.214\n",
      "INFO:tensorflow:loss = 0.44100413, step = 3500 (0.296 sec)\n",
      "INFO:tensorflow:global_step/sec: 377.364\n",
      "INFO:tensorflow:loss = 0.44247591, step = 3600 (0.265 sec)\n",
      "INFO:tensorflow:global_step/sec: 421.459\n",
      "INFO:tensorflow:loss = 0.43079126, step = 3700 (0.237 sec)\n",
      "INFO:tensorflow:global_step/sec: 346.665\n",
      "INFO:tensorflow:loss = 0.43791854, step = 3800 (0.291 sec)\n",
      "INFO:tensorflow:global_step/sec: 410.804\n",
      "INFO:tensorflow:loss = 0.42406815, step = 3900 (0.241 sec)\n",
      "INFO:tensorflow:global_step/sec: 423.234\n",
      "INFO:tensorflow:loss = 0.4233412, step = 4000 (0.236 sec)\n",
      "INFO:tensorflow:global_step/sec: 314.429\n",
      "INFO:tensorflow:loss = 0.41874266, step = 4100 (0.319 sec)\n",
      "INFO:tensorflow:global_step/sec: 300.617\n",
      "INFO:tensorflow:loss = 0.41105136, step = 4200 (0.331 sec)\n",
      "INFO:tensorflow:global_step/sec: 394.1\n",
      "INFO:tensorflow:loss = 0.40039268, step = 4300 (0.254 sec)\n",
      "INFO:tensorflow:global_step/sec: 416.754\n",
      "INFO:tensorflow:loss = 0.39247042, step = 4400 (0.240 sec)\n",
      "INFO:tensorflow:global_step/sec: 335.136\n",
      "INFO:tensorflow:loss = 0.39748293, step = 4500 (0.298 sec)\n",
      "INFO:tensorflow:global_step/sec: 422.192\n",
      "INFO:tensorflow:loss = 0.4010027, step = 4600 (0.237 sec)\n",
      "INFO:tensorflow:global_step/sec: 390.962\n",
      "INFO:tensorflow:loss = 0.38846117, step = 4700 (0.256 sec)\n",
      "INFO:tensorflow:global_step/sec: 357.77\n",
      "INFO:tensorflow:loss = 0.38101032, step = 4800 (0.279 sec)\n",
      "INFO:tensorflow:global_step/sec: 325.551\n",
      "INFO:tensorflow:loss = 0.37987804, step = 4900 (0.307 sec)\n",
      "INFO:tensorflow:Saving checkpoints for 5000 into /var/folders/1y/gxr2z5zn1mxfnq8_rtqx2ft40000gn/T/tmpdfemth96/model.ckpt.\n",
      "INFO:tensorflow:Loss for final step: 0.36436754.\n"
     ]
    },
    {
     "data": {
      "text/plain": [
       "<tensorflow_estimator.python.estimator.canned.dnn.DNNClassifierV2 at 0x634e040d0>"
      ]
     },
     "execution_count": 55,
     "metadata": {},
     "output_type": "execute_result"
    }
   ],
   "source": [
    "classifier.train(\n",
    "    input_fn=lambda: input_fn(train, train_y, training=True),\n",
    "    steps=5000)"
   ]
  },
  {
   "cell_type": "code",
   "execution_count": 54,
   "metadata": {},
   "outputs": [
    {
     "name": "stdout",
     "output_type": "stream",
     "text": [
      "INFO:tensorflow:Could not find trained model in model_dir: /var/folders/1y/gxr2z5zn1mxfnq8_rtqx2ft40000gn/T/tmpdfemth96, running initialization to evaluate.\n",
      "INFO:tensorflow:Calling model_fn.\n",
      "WARNING:tensorflow:Layer dnn is casting an input tensor from dtype float64 to the layer's dtype of float32, which is new behavior in TensorFlow 2.  The layer has dtype float32 because it's dtype defaults to floatx.\n",
      "\n",
      "If you intended to run this layer in float32, you can safely ignore this warning. If in doubt, this warning is likely only an issue if you are porting a TensorFlow 1.X model to TensorFlow 2.\n",
      "\n",
      "To change all layers to have dtype float64 by default, call `tf.keras.backend.set_floatx('float64')`. To change just this layer, pass dtype='float64' to the layer constructor. If you are the author of this layer, you can disable autocasting by passing autocast=False to the base Layer constructor.\n",
      "\n",
      "INFO:tensorflow:Done calling model_fn.\n",
      "INFO:tensorflow:Starting evaluation at 2020-05-02T19:29:31Z\n",
      "INFO:tensorflow:Graph was finalized.\n",
      "INFO:tensorflow:Running local_init_op.\n",
      "INFO:tensorflow:Done running local_init_op.\n",
      "INFO:tensorflow:Inference Time : 0.37215s\n",
      "INFO:tensorflow:Finished evaluation at 2020-05-02-19:29:31\n",
      "INFO:tensorflow:Saving dict for global step 0: accuracy = 0.26666668, average_loss = 1.6627322, global_step = 0, loss = 1.6627322\n",
      "\n",
      "Test set accuracy: 0.267\n",
      "\n"
     ]
    }
   ],
   "source": [
    "eval_result = classifier.evaluate(\n",
    "    input_fn=lambda: input_fn(test, test_y, training=False))\n",
    "\n",
    "print('\\nTest set accuracy: {accuracy:0.3f}\\n'.format(**eval_result))"
   ]
  },
  {
   "cell_type": "code",
   "execution_count": 47,
   "metadata": {},
   "outputs": [],
   "source": [
    "# def input_fn(features, batch_size=256):\n",
    "#     # Convert the inputs to a Dataset without labels.\n",
    "#     return tf.data.Dataset.from_tensor_slices(dict(features)).batch(batch_size)\n",
    "\n",
    "# features = ['SepalLength', 'SepalWidth', 'PetalLength', 'PetalWidth']\n",
    "# predict = {}\n",
    "\n",
    "# print(\"Please type numeric values as prompted.\")\n",
    "# for feature in features:\n",
    "#   valid = True\n",
    "#   while valid: \n",
    "#     val = input(feature + \": \")\n",
    "#     if not val.isdigit(): valid = False\n",
    "\n",
    "#   predict[feature] = [float(val)]\n",
    "\n",
    "# predictions = classifier.predict(input_fn=lambda: input_fn(predict))\n",
    "# for pred_dict in predictions:\n",
    "#     class_id = pred_dict['class_ids'][0]\n",
    "#     probability = pred_dict['probabilities'][class_id]\n",
    "\n",
    "#     print('Prediction is \"{}\" ({:.1f}%)'.format(\n",
    "#         SPECIES[class_id], 100 * probability))\n"
   ]
  },
  {
   "cell_type": "code",
   "execution_count": null,
   "metadata": {},
   "outputs": [],
   "source": []
  },
  {
   "cell_type": "code",
   "execution_count": null,
   "metadata": {},
   "outputs": [],
   "source": []
  }
 ],
 "metadata": {
  "kernelspec": {
   "display_name": "Python 3",
   "language": "python",
   "name": "python3"
  },
  "language_info": {
   "codemirror_mode": {
    "name": "ipython",
    "version": 3
   },
   "file_extension": ".py",
   "mimetype": "text/x-python",
   "name": "python",
   "nbconvert_exporter": "python",
   "pygments_lexer": "ipython3",
   "version": "3.7.6"
  }
 },
 "nbformat": 4,
 "nbformat_minor": 4
}
